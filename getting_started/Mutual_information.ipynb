{
 "cells": [
  {
   "cell_type": "code",
   "execution_count": 69,
   "metadata": {},
   "outputs": [],
   "source": [
    "\n",
    "import cv2\n",
    "import numpy as np\n",
    "import tensorflow as tf\n",
    "from npeet import entropy_estimators\n",
    "from tensorflow_wavelets.utils.models import DWT\n",
    "from matplotlib import pyplot as plt\n",
    "from sklearn.metrics import mutual_info_score\n"
   ]
  },
  {
   "cell_type": "code",
   "execution_count": 70,
   "metadata": {},
   "outputs": [],
   "source": [
    "# git clone https://github.com/gregversteeg/NPEET.git\n",
    "# cd NPEET\n",
    "# pip install .\n",
    "# x = [[1.3],[3.7],[5.1],[2.4],[3.4]]\n",
    "# y = [[1.5],[3.32],[5.3],[2.3],[3.3]]\n",
    "# entropy_estimators.mi(x,y)\n",
    "# Out: 0.168"
   ]
  },
  {
   "cell_type": "code",
   "execution_count": 71,
   "metadata": {},
   "outputs": [],
   "source": [
    "\n",
    "def mutual_info_wavelet(wavelet_name, img, shape=(240, 240)):\n",
    "    # resize input image to be square\n",
    "    img = cv2.resize(img, shape)\n",
    "    # expand dims for the dwt transfor\n",
    "    img_t = np.expand_dims(img, axis=-1)\n",
    "    img_ex = np.expand_dims(img_t, axis=0)\n",
    "    # concat=1 LL,LH,HL,HH in one image\n",
    "    coeffs = DWT.DWT(wavelet_name, 1, \"VALID\", \"SYMMETRIC\")(tf.dtypes.cast(img_ex, tf.float32))\n",
    "    # extract resault to numpy\n",
    "    dtw_img = coeffs[0,:, :, 0].numpy()\n",
    "    # resize the output to be like the input (maybe we need to use crop?)\n",
    "    dtw_img_res = cv2.resize(dtw_img, dsize=img.shape, interpolation=cv2.INTER_LINEAR)\n",
    "\n",
    "    flat_img = img_ex.flatten()\n",
    "    flat_coeffs = dtw_img_res.flatten()\n",
    "    mi = entropy_estimators.mi(flat_img, flat_coeffs)\n",
    "    print(f\"Mutual Information = {mi}, for {wavelet_name} Wavelet\")\n",
    "\n"
   ]
  },
  {
   "cell_type": "code",
   "execution_count": null,
   "metadata": {},
   "outputs": [],
   "source": [
    "input = tf.keras.layers.AveragePooling2D(pool_size=2, strides=2, padding='same')(tf.dtypes.cast(input, tf.float32))"
   ]
  },
  {
   "cell_type": "code",
   "execution_count": 72,
   "metadata": {},
   "outputs": [
    {
     "name": "stdout",
     "output_type": "stream",
     "text": [
      "Mutual Information = 0.30492119228714604, for haar Wavelet\n",
      "Mutual Information = 0.24842043893401106, for db2 Wavelet\n",
      "Mutual Information = 0.23992783265615508, for db3 Wavelet\n",
      "Mutual Information = 0.2402050299189054, for sym3 Wavelet\n",
      "Mutual Information = 0.24801498672352387, for bior1.3 Wavelet\n"
     ]
    }
   ],
   "source": [
    "img = cv2.imread(\"../src/input/Lenna_orig.png\", 0)\n",
    "mutual_info_wavelet(\"haar\", img)\n",
    "mutual_info_wavelet(\"db2\", img)\n",
    "mutual_info_wavelet(\"db3\", img)\n",
    "mutual_info_wavelet(\"sym3\", img)\n",
    "mutual_info_wavelet(\"bior1.3\", img)"
   ]
  }
 ],
 "metadata": {
  "kernelspec": {
   "display_name": "py38",
   "language": "python",
   "name": "python3"
  },
  "language_info": {
   "codemirror_mode": {
    "name": "ipython",
    "version": 3
   },
   "file_extension": ".py",
   "mimetype": "text/x-python",
   "name": "python",
   "nbconvert_exporter": "python",
   "pygments_lexer": "ipython3",
   "version": "3.8.18"
  }
 },
 "nbformat": 4,
 "nbformat_minor": 2
}
