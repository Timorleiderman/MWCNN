{
 "cells": [
  {
   "cell_type": "code",
   "execution_count": 1,
   "metadata": {},
   "outputs": [
    {
     "ename": "ModuleNotFoundError",
     "evalue": "No module named 'cv2'",
     "output_type": "error",
     "traceback": [
      "\u001b[1;31m---------------------------------------------------------------------------\u001b[0m",
      "\u001b[1;31mModuleNotFoundError\u001b[0m                       Traceback (most recent call last)",
      "\u001b[1;32m~\\AppData\\Local\\Temp\\ipykernel_12600\\2135738620.py\u001b[0m in \u001b[0;36m<module>\u001b[1;34m\u001b[0m\n\u001b[1;32m----> 1\u001b[1;33m \u001b[1;32mimport\u001b[0m \u001b[0mcv2\u001b[0m\u001b[1;33m\u001b[0m\u001b[1;33m\u001b[0m\u001b[0m\n\u001b[0m\u001b[0;32m      2\u001b[0m \u001b[1;32mimport\u001b[0m \u001b[0mnumpy\u001b[0m \u001b[1;32mas\u001b[0m \u001b[0mnp\u001b[0m\u001b[1;33m\u001b[0m\u001b[1;33m\u001b[0m\u001b[0m\n\u001b[0;32m      3\u001b[0m \u001b[1;32mimport\u001b[0m \u001b[0mpandas\u001b[0m \u001b[1;32mas\u001b[0m \u001b[0mpd\u001b[0m\u001b[1;33m\u001b[0m\u001b[1;33m\u001b[0m\u001b[0m\n\u001b[0;32m      4\u001b[0m \u001b[1;32mimport\u001b[0m \u001b[0mtensorflow\u001b[0m \u001b[1;32mas\u001b[0m \u001b[0mtf\u001b[0m\u001b[1;33m\u001b[0m\u001b[1;33m\u001b[0m\u001b[0m\n\u001b[0;32m      5\u001b[0m \u001b[1;32mfrom\u001b[0m \u001b[0mnpeet\u001b[0m \u001b[1;32mimport\u001b[0m \u001b[0mentropy_estimators\u001b[0m\u001b[1;33m\u001b[0m\u001b[1;33m\u001b[0m\u001b[0m\n",
      "\u001b[1;31mModuleNotFoundError\u001b[0m: No module named 'cv2'"
     ]
    }
   ],
   "source": [
    "\n",
    "import cv2\n",
    "import numpy as np\n",
    "import pandas as pd\n",
    "import tensorflow as tf\n",
    "from npeet import entropy_estimators\n",
    "from tensorflow_wavelets.utils.models import DWT"
   ]
  },
  {
   "cell_type": "code",
   "execution_count": 42,
   "metadata": {},
   "outputs": [],
   "source": [
    "# git clone https://github.com/gregversteeg/NPEET.git\n",
    "# cd NPEET\n",
    "# pip install .\n",
    "# x = [[1.3],[3.7],[5.1],[2.4],[3.4]]\n",
    "# y = [[1.5],[3.32],[5.3],[2.3],[3.3]]\n",
    "# entropy_estimators.mi(x,y)\n",
    "# Out: 0.168"
   ]
  },
  {
   "cell_type": "code",
   "execution_count": 43,
   "metadata": {},
   "outputs": [],
   "source": [
    "\n",
    "def mutual_info_wavelet(wavelet_name, img, pd_dict:dict, shape=(240, 240)):\n",
    "    # resize input image to be square\n",
    "    img = cv2.resize(img, shape)\n",
    "    # expand dims for the dwt transfor\n",
    "    img_t = np.expand_dims(img, axis=-1)\n",
    "    img_ex = np.expand_dims(img_t, axis=0)\n",
    "    # concat=1 LL,LH,HL,HH in one image\n",
    "    coeffs = DWT.DWT(wavelet_name, 1, \"VALID\", \"SYMMETRIC\")(tf.dtypes.cast(img_ex, tf.float32))\n",
    "    # extract resault to numpy\n",
    "    dtw_img = coeffs[0,:, :, 0].numpy()\n",
    "    # resize the output to be like the input (maybe we need to use crop?)\n",
    "    dtw_img_res = cv2.resize(dtw_img, dsize=img.shape, interpolation=cv2.INTER_LINEAR)\n",
    "\n",
    "    flat_img = img_ex.flatten()\n",
    "    flat_coeffs = dtw_img_res.flatten()\n",
    "    mi = entropy_estimators.mi(flat_img, flat_coeffs)\n",
    "    # print(f\"Mutual Information = {mi}, for {wavelet_name} Wavelet\")\n",
    "    pd_dict[wavelet_name] = mi\n",
    "\n"
   ]
  },
  {
   "cell_type": "code",
   "execution_count": null,
   "metadata": {},
   "outputs": [],
   "source": [
    "\n",
    "# def mutual_info_wavelet2(wavelet_name, img, pd_dict:dict, shape=(240, 240)):\n",
    "    # resize input image to be square\n",
    "img = cv2.imread(\"../src/input/Lenna_orig.png\", 0)\n",
    "res = dict()\n",
    "shape=(240, 240)\n",
    "wavelet_name = \"haar\"\n",
    "\n",
    "img = cv2.resize(img, shape)\n",
    "# expand dims for the dwt transfor\n",
    "img_t = np.expand_dims(img, axis=-1)\n",
    "img_ex = np.expand_dims(img_t, axis=0)\n",
    "# concat=1 LL,LH,HL,HH in one image\n",
    "coeffs = DWT.DWT(wavelet_name, concat=1)(tf.dtypes.cast(img_ex, tf.float32))\n",
    "\n",
    "\n",
    "idwt = DWT.IDWT(wavelet_name, concat=1)(tf.dtypes.cast(coeffs, tf.float32))\n",
    "# extract resault to numpy\n",
    "dtw_img = coeffs[0,:, :, 0].numpy()\n",
    "# resize the output to be like the input (maybe we need to use crop?)\n",
    "dtw_img_res = cv2.resize(dtw_img, dsize=img.shape, interpolation=cv2.INTER_LINEAR)\n",
    "\n",
    "flat_img = img_ex.flatten()\n",
    "flat_coeffs = dtw_img_res.flatten()\n",
    "mi = entropy_estimators.mi(flat_img, flat_coeffs)\n",
    "# print(f\"Mutual Information = {mi}, for {wavelet_name} Wavelet\")\n",
    "pd_dict[wavelet_name] = mi\n",
    "\n"
   ]
  },
  {
   "cell_type": "code",
   "execution_count": 44,
   "metadata": {},
   "outputs": [],
   "source": [
    "img = cv2.imread(\"../src/input/Lenna_orig.png\", 0)\n",
    "res = dict()\n",
    "mutual_info_wavelet(\"haar\", img, res)\n",
    "mutual_info_wavelet(\"db2\", img, res)\n",
    "mutual_info_wavelet(\"db3\", img, res)\n",
    "mutual_info_wavelet(\"coif2\", img, res)\n",
    "mutual_info_wavelet(\"coif3\", img, res)\n",
    "mutual_info_wavelet(\"sym2\", img, res)\n",
    "mutual_info_wavelet(\"sym3\", img, res)\n",
    "mutual_info_wavelet(\"bior1.3\", img, res)\n",
    "mutual_info_wavelet(\"bior2.2\", img, res)\n",
    "mutual_info_wavelet(\"rbio1.3\", img, res)\n",
    "mutual_info_wavelet(\"rbio2.2\", img, res)\n"
   ]
  },
  {
   "cell_type": "code",
   "execution_count": 45,
   "metadata": {},
   "outputs": [
    {
     "data": {
      "text/html": [
       "<div>\n",
       "<style scoped>\n",
       "    .dataframe tbody tr th:only-of-type {\n",
       "        vertical-align: middle;\n",
       "    }\n",
       "\n",
       "    .dataframe tbody tr th {\n",
       "        vertical-align: top;\n",
       "    }\n",
       "\n",
       "    .dataframe thead th {\n",
       "        text-align: right;\n",
       "    }\n",
       "</style>\n",
       "<table border=\"1\" class=\"dataframe\">\n",
       "  <thead>\n",
       "    <tr style=\"text-align: right;\">\n",
       "      <th></th>\n",
       "      <th>wavelet_name</th>\n",
       "      <th>mutual_information</th>\n",
       "    </tr>\n",
       "  </thead>\n",
       "  <tbody>\n",
       "    <tr>\n",
       "      <th>0</th>\n",
       "      <td>haar</td>\n",
       "      <td>0.300046</td>\n",
       "    </tr>\n",
       "    <tr>\n",
       "      <th>1</th>\n",
       "      <td>db2</td>\n",
       "      <td>0.248661</td>\n",
       "    </tr>\n",
       "    <tr>\n",
       "      <th>2</th>\n",
       "      <td>db3</td>\n",
       "      <td>0.240524</td>\n",
       "    </tr>\n",
       "    <tr>\n",
       "      <th>3</th>\n",
       "      <td>coif2</td>\n",
       "      <td>0.239007</td>\n",
       "    </tr>\n",
       "    <tr>\n",
       "      <th>4</th>\n",
       "      <td>coif3</td>\n",
       "      <td>0.244888</td>\n",
       "    </tr>\n",
       "    <tr>\n",
       "      <th>5</th>\n",
       "      <td>sym2</td>\n",
       "      <td>0.247446</td>\n",
       "    </tr>\n",
       "    <tr>\n",
       "      <th>6</th>\n",
       "      <td>sym3</td>\n",
       "      <td>0.241551</td>\n",
       "    </tr>\n",
       "    <tr>\n",
       "      <th>7</th>\n",
       "      <td>bior1.3</td>\n",
       "      <td>0.247472</td>\n",
       "    </tr>\n",
       "    <tr>\n",
       "      <th>8</th>\n",
       "      <td>bior2.2</td>\n",
       "      <td>0.247495</td>\n",
       "    </tr>\n",
       "    <tr>\n",
       "      <th>9</th>\n",
       "      <td>rbio1.3</td>\n",
       "      <td>0.252135</td>\n",
       "    </tr>\n",
       "    <tr>\n",
       "      <th>10</th>\n",
       "      <td>rbio2.2</td>\n",
       "      <td>0.255849</td>\n",
       "    </tr>\n",
       "  </tbody>\n",
       "</table>\n",
       "</div>"
      ],
      "text/plain": [
       "   wavelet_name  mutual_information\n",
       "0          haar            0.300046\n",
       "1           db2            0.248661\n",
       "2           db3            0.240524\n",
       "3         coif2            0.239007\n",
       "4         coif3            0.244888\n",
       "5          sym2            0.247446\n",
       "6          sym3            0.241551\n",
       "7       bior1.3            0.247472\n",
       "8       bior2.2            0.247495\n",
       "9       rbio1.3            0.252135\n",
       "10      rbio2.2            0.255849"
      ]
     },
     "execution_count": 45,
     "metadata": {},
     "output_type": "execute_result"
    }
   ],
   "source": [
    "df = pd.DataFrame(list(res.items()), columns=['wavelet_name', 'mutual_information'])\n",
    "df"
   ]
  }
 ],
 "metadata": {
  "kernelspec": {
   "display_name": "py38",
   "language": "python",
   "name": "python3"
  },
  "language_info": {
   "codemirror_mode": {
    "name": "ipython",
    "version": 3
   },
   "file_extension": ".py",
   "mimetype": "text/x-python",
   "name": "python",
   "nbconvert_exporter": "python",
   "pygments_lexer": "ipython3",
   "version": "3.7.8"
  }
 },
 "nbformat": 4,
 "nbformat_minor": 2
}
