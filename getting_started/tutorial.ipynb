{
 "cells": [
  {
   "cell_type": "code",
   "execution_count": 1,
   "metadata": {},
   "outputs": [],
   "source": [
    "from tensorflow import keras\n",
    "import tensorflow_wavelets.Layers.DWT as DWT\n",
    "import tensorflow_wavelets.Layers.DTCWT as DTCWT\n",
    "import tensorflow_wavelets.Layers.DMWT as DMWT\n",
    "import tensorflow_wavelets.Layers.Threshold as Threshold\n"
   ]
  },
  {
   "cell_type": "code",
   "execution_count": 2,
   "metadata": {},
   "outputs": [
    {
     "name": "stdout",
     "output_type": "stream",
     "text": [
      "Model: \"sequential\"\n",
      "_________________________________________________________________\n",
      "Layer (type)                 Output Shape              Param #   \n",
      "=================================================================\n",
      "haar (DWT)                   (None, 14, 14, 4)         0         \n",
      "_________________________________________________________________\n",
      "flatten (Flatten)            (None, 784)               0         \n",
      "_________________________________________________________________\n",
      "dense (Dense)                (None, 10)                7850      \n",
      "=================================================================\n",
      "Total params: 7,850\n",
      "Trainable params: 7,850\n",
      "Non-trainable params: 0\n",
      "_________________________________________________________________\n"
     ]
    }
   ],
   "source": [
    "\n",
    "nb_classes = 10\n",
    "model = keras.Sequential()\n",
    "model.add(keras.Input(shape=(28, 28, 1)))\n",
    "model.add(DWT.DWT(name=\"haar\",concat=0))\n",
    "model.add(keras.layers.Flatten())\n",
    "model.add(keras.layers.Dense(nb_classes, activation=\"softmax\"))\n",
    "model.summary()"
   ]
  },
  {
   "cell_type": "code",
   "execution_count": 3,
   "metadata": {},
   "outputs": [
    {
     "name": "stdout",
     "output_type": "stream",
     "text": [
      "Model: \"sequential_1\"\n",
      "_________________________________________________________________\n",
      "Layer (type)                 Output Shape              Param #   \n",
      "=================================================================\n",
      "db4 (DWT)                    (None, 28, 28, 1)         0         \n",
      "=================================================================\n",
      "Total params: 0\n",
      "Trainable params: 0\n",
      "Non-trainable params: 0\n",
      "_________________________________________________________________\n"
     ]
    }
   ],
   "source": [
    "model = keras.Sequential()\n",
    "model.add(keras.layers.InputLayer(input_shape=(28, 28, 1)))\n",
    "model.add(DWT.DWT(name=\"db4\", concat=1))\n",
    "model.summary()"
   ]
  },
  {
   "cell_type": "code",
   "execution_count": 4,
   "metadata": {},
   "outputs": [
    {
     "name": "stdout",
     "output_type": "stream",
     "text": [
      "Model: \"MyModel\"\n",
      "_________________________________________________________________\n",
      "Layer (type)                 Output Shape              Param #   \n",
      "=================================================================\n",
      "input_3 (InputLayer)         [(None, 512, 512, 1)]     0         \n",
      "_________________________________________________________________\n",
      "dmwt (DMWT)                  (None, 1024, 1024, 1)     0         \n",
      "_________________________________________________________________\n",
      "threshold (Threshold)        (None, 1024, 1024, 1)     0         \n",
      "_________________________________________________________________\n",
      "idmwt (IDMWT)                (None, 512, 512, 1)       0         \n",
      "=================================================================\n",
      "Total params: 0\n",
      "Trainable params: 0\n",
      "Non-trainable params: 0\n",
      "_________________________________________________________________\n"
     ]
    }
   ],
   "source": [
    "\n",
    "x_inp = keras.layers.Input(shape=(512, 512, 1))\n",
    "x = DMWT.DMWT(\"ghm\")(x_inp)\n",
    "x = Threshold.Threshold(algo='sure', mode='hard')(x) # use \"soft\" or \"hard\"\n",
    "x = DMWT.IDMWT(\"ghm\")(x)\n",
    "model = keras.models.Model(x_inp, x, name=\"MyModel\")\n",
    "model.summary()"
   ]
  }
 ],
 "metadata": {
  "kernelspec": {
   "display_name": "base",
   "language": "python",
   "name": "python3"
  },
  "language_info": {
   "codemirror_mode": {
    "name": "ipython",
    "version": 3
   },
   "file_extension": ".py",
   "mimetype": "text/x-python",
   "name": "python",
   "nbconvert_exporter": "python",
   "pygments_lexer": "ipython3",
   "version": "3.8.16"
  },
  "orig_nbformat": 4,
  "vscode": {
   "interpreter": {
    "hash": "bf71414324ede15b82b265bb1e616b7922ff32121ec1c144d1e6aa17f905da62"
   }
  }
 },
 "nbformat": 4,
 "nbformat_minor": 2
}
